{
 "nbformat": 4,
 "nbformat_minor": 2,
 "metadata": {
  "language_info": {
   "name": "python",
   "codemirror_mode": {
    "name": "ipython",
    "version": 3
   },
   "version": "3.7.7-final"
  },
  "orig_nbformat": 2,
  "file_extension": ".py",
  "mimetype": "text/x-python",
  "name": "python",
  "npconvert_exporter": "python",
  "pygments_lexer": "ipython3",
  "version": 3,
  "kernelspec": {
   "name": "python37764bitmlenvconda2e03a7daaea74cc49c973f5271da014c",
   "display_name": "Python 3.7.7 64-bit ('ml_env': conda)"
  }
 },
 "cells": [
  {
   "cell_type": "code",
   "execution_count": 41,
   "metadata": {},
   "outputs": [],
   "source": [
    "import pandas as pd\n",
    "import numpy as np\n",
    "import tensorflow.compat.v1 as tf\n",
    "tf.disable_v2_behavior() \n",
    "import matplotlib.pyplot as plt"
   ]
  },
  {
   "cell_type": "code",
   "execution_count": 42,
   "metadata": {},
   "outputs": [],
   "source": [
    "#Parameters\n",
    "learning_rate = 0.0001\n",
    "training_epochs = 50\n",
    "display_step = 5"
   ]
  },
  {
   "cell_type": "code",
   "execution_count": 43,
   "metadata": {},
   "outputs": [],
   "source": [
    "clean_posts = pd.read_csv(\"clean_posts.csv\")"
   ]
  },
  {
   "cell_type": "code",
   "execution_count": 44,
   "metadata": {},
   "outputs": [],
   "source": [
    "clean_posts = np.random.random((193, 8)).astype('f')\n",
    "\n",
    "train_X = clean_posts[0:192, 0:6]\n",
    "train_Y = clean_posts[0:192, [7]]"
   ]
  },
  {
   "cell_type": "code",
   "execution_count": 45,
   "metadata": {},
   "outputs": [],
   "source": [
    "# placeholders for a tensor that will be always fed.\n",
    "X = tf.placeholder('float32', shape = [None, 6])\n",
    "Y = tf.placeholder('float32', shape = [None, 1])"
   ]
  },
  {
   "cell_type": "code",
   "execution_count": 46,
   "metadata": {},
   "outputs": [],
   "source": [
    "# Training Data\n",
    "n_samples = train_Y.shape[0]\n",
    "\n",
    "# Set model weights\n",
    "W = tf.cast(tf.Variable(np.random.randn(6, 1), name=\"weight\"), tf.float32)\n",
    "b = tf.Variable(np.random.randn(), name=\"bias\")"
   ]
  },
  {
   "cell_type": "code",
   "execution_count": 47,
   "metadata": {},
   "outputs": [
    {
     "output_type": "stream",
     "name": "stdout",
     "text": "(?, 1)\n"
    }
   ],
   "source": [
    "mult_node = tf.matmul(X, W)\n",
    "print(mult_node.shape)\n",
    "# Construct a linear model\n",
    "pred = tf.add(tf.matmul(X, W), b)"
   ]
  },
  {
   "cell_type": "code",
   "execution_count": 48,
   "metadata": {},
   "outputs": [],
   "source": [
    "# Mean squared error\n",
    "cost = tf.reduce_sum(tf.pow(pred-Y, 2))/(2*n_samples)\n",
    "# Gradient descent\n",
    "#  Note, minimize() knows to modify W and b because Variable objects are trainable=True by default\n",
    "optimizer = tf.train.GradientDescentOptimizer(learning_rate).minimize(cost)"
   ]
  },
  {
   "cell_type": "code",
   "execution_count": 49,
   "metadata": {},
   "outputs": [],
   "source": [
    "# Accuracy\n",
    "# #accuracy = tf.contrib.metrics.streaming_accuracy(Y, pred)\n",
    "\n",
    "# Initialize the variables (i.e. assign their default value)\n",
    "init = tf.global_variables_initializer()"
   ]
  },
  {
   "cell_type": "code",
   "execution_count": 62,
   "metadata": {},
   "outputs": [
    {
     "output_type": "stream",
     "name": "stdout",
     "text": "Epoch: 0005 cost= 5.691655159 W= [[-1.2894521 ]\n [ 0.22028762]\n [ 0.7793832 ]\n [ 0.8196192 ]\n [-0.94755894]\n [-0.6378202 ]] b= -2.3450966\nTraining cost= 5.691655 W= [[-1.2894521 ]\n [ 0.22028762]\n [ 0.7793832 ]\n [ 0.8196192 ]\n [-0.94755894]\n [-0.6378202 ]] b= -2.3450966 \n\nEpoch: 0010 cost= 5.677855968 W= [[-1.2885941 ]\n [ 0.22107255]\n [ 0.78023857]\n [ 0.82039905]\n [-0.94666624]\n [-0.6369976 ]] b= -2.3434427\nTraining cost= 5.677856 W= [[-1.2885941 ]\n [ 0.22107255]\n [ 0.78023857]\n [ 0.82039905]\n [-0.94666624]\n [-0.6369976 ]] b= -2.3434427 \n\nEpoch: 0015 cost= 5.664092064 W= [[-1.2877374 ]\n [ 0.22185646]\n [ 0.7810928 ]\n [ 0.82117784]\n [-0.9457747 ]\n [-0.636176  ]] b= -2.341791\nTraining cost= 5.664092 W= [[-1.2877374 ]\n [ 0.22185646]\n [ 0.7810928 ]\n [ 0.82117784]\n [-0.9457747 ]\n [-0.636176  ]] b= -2.341791 \n\nEpoch: 0020 cost= 5.650363445 W= [[-1.2868816 ]\n [ 0.2226393 ]\n [ 0.7819459 ]\n [ 0.82195556]\n [-0.94488424]\n [-0.6353555 ]] b= -2.3401413\nTraining cost= 5.6503634 W= [[-1.2868816 ]\n [ 0.2226393 ]\n [ 0.7819459 ]\n [ 0.82195556]\n [-0.94488424]\n [-0.6353555 ]] b= -2.3401413 \n\nEpoch: 0025 cost= 5.636669159 W= [[-1.2860268 ]\n [ 0.22342113]\n [ 0.7827978 ]\n [ 0.8227322 ]\n [-0.94399494]\n [-0.6345359 ]] b= -2.3384938\nTraining cost= 5.636669 W= [[-1.2860268 ]\n [ 0.22342113]\n [ 0.7827978 ]\n [ 0.8227322 ]\n [-0.94399494]\n [-0.6345359 ]] b= -2.3384938 \n\nEpoch: 0030 cost= 5.623009682 W= [[-1.2851732 ]\n [ 0.22420192]\n [ 0.78364855]\n [ 0.8235078 ]\n [-0.9431067 ]\n [-0.6337174 ]] b= -2.3368483\nTraining cost= 5.6230097 W= [[-1.2851732 ]\n [ 0.22420192]\n [ 0.78364855]\n [ 0.8235078 ]\n [-0.9431067 ]\n [-0.6337174 ]] b= -2.3368483 \n\nEpoch: 0035 cost= 5.609385967 W= [[-1.2843205 ]\n [ 0.22498168]\n [ 0.78449816]\n [ 0.82428235]\n [-0.9422196 ]\n [-0.63289994]] b= -2.3352048\nTraining cost= 5.609386 W= [[-1.2843205 ]\n [ 0.22498168]\n [ 0.78449816]\n [ 0.82428235]\n [-0.9422196 ]\n [-0.63289994]] b= -2.3352048 \n\nEpoch: 0040 cost= 5.595795631 W= [[-1.2834688 ]\n [ 0.2257604 ]\n [ 0.7853466 ]\n [ 0.82505584]\n [-0.9413336 ]\n [-0.6320835 ]] b= -2.3335633\nTraining cost= 5.5957956 W= [[-1.2834688 ]\n [ 0.2257604 ]\n [ 0.7853466 ]\n [ 0.82505584]\n [-0.9413336 ]\n [-0.6320835 ]] b= -2.3335633 \n\nEpoch: 0045 cost= 5.582242012 W= [[-1.2826183 ]\n [ 0.2265381 ]\n [ 0.7861939 ]\n [ 0.82582825]\n [-0.94044876]\n [-0.6312681 ]] b= -2.3319242\nTraining cost= 5.582242 W= [[-1.2826183 ]\n [ 0.2265381 ]\n [ 0.7861939 ]\n [ 0.82582825]\n [-0.94044876]\n [-0.6312681 ]] b= -2.3319242 \n\nEpoch: 0050 cost= 5.568722725 W= [[-1.2817687 ]\n [ 0.22731477]\n [ 0.78704005]\n [ 0.8265996 ]\n [-0.93956494]\n [-0.63045365]] b= -2.330287\nTraining cost= 5.5687227 W= [[-1.2817687 ]\n [ 0.22731477]\n [ 0.78704005]\n [ 0.8265996 ]\n [-0.93956494]\n [-0.63045365]] b= -2.330287 \n\n"
    }
   ],
   "source": [
    "# Start training\n",
    "with tf.Session() as sess:\n",
    "# Run the initializer\n",
    "    sess.run(init)\n",
    "    # Fit all training data\n",
    "    for epoch in range(training_epochs):\n",
    "        #for (x, y) in zip(train_X, train_Y):\n",
    "        sess.run(optimizer, feed_dict={X: train_X, Y: train_Y})\n",
    "        if (epoch+1) % display_step == 0:\n",
    "            c = sess.run(cost, feed_dict={X: train_X, Y:train_Y})\n",
    "            print(\"Epoch:\", '%04d' % (epoch+1), \"cost=\", \"{:.9f}\".format(c), \\\n",
    "            \"W=\", sess.run(W), \"b=\", sess.run(b))\n",
    "            training_cost = sess.run(cost, feed_dict={X: train_X, Y: train_Y})\n",
    "            print(\"Training cost=\", training_cost, \"W=\", sess.run(W), \"b=\", sess.run(b), '\\n')\n",
    "\n",
    "            line = sess.run(tf.add(tf.matmul(train_X, W), b))"
   ]
  },
  {
   "cell_type": "code",
   "execution_count": null,
   "metadata": {},
   "outputs": [],
   "source": []
  }
 ]
}